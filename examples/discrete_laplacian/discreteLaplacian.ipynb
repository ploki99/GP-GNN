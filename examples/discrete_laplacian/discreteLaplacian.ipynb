{
 "cells": [
  {
   "cell_type": "markdown",
   "metadata": {
    "pycharm": {
     "name": "#%% md\n"
    }
   },
   "source": [
    "# Compute discrete laplacian using Graph Neural Network\n",
    "\n",
    "Consider the problem $Lx=b$ where $L$ is the graph laplacian.\n",
    "Our aim is to find $b$ given $x$ and the graph $G=(V,E)$ using a graph neural network."
   ]
  },
  {
   "cell_type": "markdown",
   "metadata": {
    "pycharm": {
     "name": "#%% md\n"
    }
   },
   "source": [
    "Change working directory (remember to replace \"path-to-your-directory\" with your own directory)"
   ]
  },
  {
   "cell_type": "code",
   "execution_count": null,
   "metadata": {
    "collapsed": false,
    "jupyter": {
     "outputs_hidden": false
    },
    "pycharm": {
     "name": "#%%\n",
     "is_executing": true
    }
   },
   "outputs": [],
   "source": [
    "%cd /\"path-to-your-directory\"/GP-GNN"
   ]
  },
  {
   "cell_type": "markdown",
   "metadata": {
    "pycharm": {
     "name": "#%% md\n"
    }
   },
   "source": [
    "Import used source files\n"
   ]
  },
  {
   "cell_type": "code",
   "execution_count": 2,
   "metadata": {
    "collapsed": false,
    "jupyter": {
     "outputs_hidden": false
    },
    "pycharm": {
     "name": "#%%\n"
    }
   },
   "outputs": [],
   "source": [
    "import numpy as np\n",
    "import sys\n",
    "import time\n",
    "from tqdm import trange\n",
    "\n",
    "from src.graph.graph2D import Graph2D\n",
    "from src.graph.graphObject import GraphObject\n",
    "from src.gnn.dataset import get_datasets, get_torch_graph\n",
    "from src.gnn.buildModel import BuildModel"
   ]
  },
  {
   "cell_type": "markdown",
   "metadata": {
    "pycharm": {
     "name": "#%% md\n"
    }
   },
   "source": [
    "Import neural network used"
   ]
  },
  {
   "cell_type": "code",
   "execution_count": 3,
   "metadata": {
    "collapsed": false,
    "jupyter": {
     "outputs_hidden": false
    },
    "pycharm": {
     "name": "#%%\n"
    }
   },
   "outputs": [],
   "source": [
    "from examples.discrete_laplacian.discreteLaplacianGNN import DiscreteLaplacianGNN"
   ]
  },
  {
   "cell_type": "markdown",
   "source": [
    "Load plot function"
   ],
   "metadata": {
    "collapsed": false,
    "pycharm": {
     "name": "#%% md\n"
    }
   }
  },
  {
   "cell_type": "code",
   "execution_count": 4,
   "outputs": [],
   "source": [
    "from examples.discrete_laplacian.main import plot_testing"
   ],
   "metadata": {
    "collapsed": false,
    "pycharm": {
     "name": "#%%\n"
    }
   }
  },
  {
   "cell_type": "markdown",
   "metadata": {
    "pycharm": {
     "name": "#%% md\n"
    }
   },
   "source": [
    "Force matplotlib to plot inline\n"
   ]
  },
  {
   "cell_type": "code",
   "execution_count": 5,
   "metadata": {
    "collapsed": false,
    "jupyter": {
     "outputs_hidden": false
    },
    "pycharm": {
     "name": "#%%\n"
    }
   },
   "outputs": [],
   "source": [
    "%matplotlib inline"
   ]
  },
  {
   "cell_type": "markdown",
   "metadata": {
    "pycharm": {
     "name": "#%% md\n"
    }
   },
   "source": [
    "## Dataset"
   ]
  },
  {
   "cell_type": "markdown",
   "metadata": {
    "pycharm": {
     "name": "#%% md\n"
    }
   },
   "source": [
    "Create dataset"
   ]
  },
  {
   "cell_type": "code",
   "execution_count": 6,
   "metadata": {
    "collapsed": false,
    "jupyter": {
     "outputs_hidden": false
    },
    "pycharm": {
     "name": "#%%\n"
    }
   },
   "outputs": [
    {
     "name": "stdout",
     "output_type": "stream",
     "text": [
      "100%|██████████████████████████████████████████████████████████| 1000/1000 [00:01<00:00, 610.06it/s]\n"
     ]
    }
   ],
   "source": [
    "n_items = 1000\n",
    "\n",
    "for i in trange(n_items, ncols=100, file=sys.stdout):\n",
    "    n = np.random.randint(100, 200)\n",
    "    g = Graph2D.get_default_graph(n_vertexes=n)\n",
    "    inp = np.random.uniform(0, 1, size=(n, 1))\n",
    "    out = g.get_discrete_laplacian(inp)\n",
    "    graph = GraphObject(g.vertexes, g.get_edges(), in_features=inp, out_features=out)\n",
    "    graph.save(f\"examples/discrete_laplacian/dataset/graph_{i}\")"
   ]
  },
  {
   "cell_type": "markdown",
   "metadata": {
    "pycharm": {
     "name": "#%% md\n"
    }
   },
   "source": [
    "## Build and train the network"
   ]
  },
  {
   "cell_type": "markdown",
   "metadata": {
    "pycharm": {
     "name": "#%% md\n"
    }
   },
   "source": [
    "Read dataset"
   ]
  },
  {
   "cell_type": "code",
   "execution_count": 7,
   "metadata": {
    "collapsed": false,
    "jupyter": {
     "outputs_hidden": false
    },
    "pycharm": {
     "name": "#%%\n"
    }
   },
   "outputs": [
    {
     "name": "stdout",
     "output_type": "stream",
     "text": [
      "Reading training data...\n",
      "100%|███████████████████████████████████████████████████████████| 700/700 [00:00<00:00, 6623.96it/s]\n",
      "Reading validation data...\n",
      "100%|███████████████████████████████████████████████████████████| 200/200 [00:00<00:00, 6010.62it/s]\n",
      "Reading testing data...\n",
      "100%|███████████████████████████████████████████████████████████| 100/100 [00:00<00:00, 6732.43it/s]\n"
     ]
    }
   ],
   "source": [
    "batch_size = 4\n",
    "\n",
    "train, val, test = get_datasets('examples/discrete_laplacian/dataset/graph', batch_size= batch_size, num_el=n_items, division=[70, 20, 10])"
   ]
  },
  {
   "cell_type": "markdown",
   "metadata": {
    "pycharm": {
     "name": "#%% md\n"
    }
   },
   "source": [
    "Build model"
   ]
  },
  {
   "cell_type": "code",
   "execution_count": 8,
   "metadata": {
    "collapsed": false,
    "jupyter": {
     "outputs_hidden": false
    },
    "pycharm": {
     "name": "#%%\n"
    }
   },
   "outputs": [
    {
     "name": "stdout",
     "output_type": "stream",
     "text": [
      "==========================================================================================\n",
      "Layer (type:depth-idx)                   Output Shape              Param #\n",
      "==========================================================================================\n",
      "├─Encoder: 1-1                           [-1, 1]                   --\n",
      "|    └─Sequential: 2-1                   [-1, 1]                   --\n",
      "|    └─Sequential: 2-2                   [-1]                      --\n",
      "├─ModuleList: 1                          []                        --\n",
      "|    └─MessagePassingBlock: 2-3          [-1, 1]                   --\n",
      "|    |    └─Sequential: 3-1              [-1, 1]                   3\n",
      "|    |    └─SumAggregation: 3-2          [-1, 1]                   --\n",
      "|    |    └─Sequential: 3-3              [-1, 1]                   3\n",
      "├─Decoder: 1-2                           [-1, 1]                   --\n",
      "|    └─Sequential: 2-4                   [-1, 1]                   --\n",
      "==========================================================================================\n",
      "Total params: 6\n",
      "Trainable params: 6\n",
      "Non-trainable params: 0\n",
      "Total mult-adds (M): 0.00\n",
      "==========================================================================================\n",
      "Input size (MB): 0.01\n",
      "Forward/backward pass size (MB): 0.00\n",
      "Params size (MB): 0.00\n",
      "Estimated Total Size (MB): 0.01\n",
      "==========================================================================================\n"
     ]
    }
   ],
   "source": [
    "model = BuildModel(DiscreteLaplacianGNN(), train, val, \"examples/discrete_laplacian/best_model\")\n",
    "model.summary()"
   ]
  },
  {
   "cell_type": "markdown",
   "metadata": {
    "pycharm": {
     "name": "#%% md\n"
    }
   },
   "source": [
    "Train the model"
   ]
  },
  {
   "cell_type": "code",
   "execution_count": 9,
   "metadata": {
    "collapsed": false,
    "jupyter": {
     "outputs_hidden": false
    },
    "pycharm": {
     "name": "#%%\n"
    }
   },
   "outputs": [
    {
     "name": "stdout",
     "output_type": "stream",
     "text": [
      "EPOCH   0: 100%|████████████████████████████| 175/175 [00:00<00:00, 303.77it/s, batch loss=1.36e+00]\n",
      "Current loss - training: 2.07e+00 validation: 1.33e+00\n",
      "\n",
      "EPOCH   1: 100%|████████████████████████████| 175/175 [00:00<00:00, 320.64it/s, batch loss=8.29e-01]\n",
      "Current loss - training: 1.08e+00 validation: 9.18e-01\n",
      "\n",
      "EPOCH   2: 100%|████████████████████████████| 175/175 [00:00<00:00, 232.62it/s, batch loss=8.58e-01]\n",
      "Current loss - training: 8.44e-01 validation: 7.79e-01\n",
      "\n",
      "EPOCH   3: 100%|████████████████████████████| 175/175 [00:00<00:00, 293.02it/s, batch loss=5.92e-01]\n",
      "Current loss - training: 7.33e-01 validation: 6.85e-01\n",
      "\n",
      "EPOCH   4: 100%|████████████████████████████| 175/175 [00:00<00:00, 260.26it/s, batch loss=6.82e-01]\n",
      "Current loss - training: 6.47e-01 validation: 6.07e-01\n",
      "\n",
      "EPOCH   5: 100%|████████████████████████████| 175/175 [00:00<00:00, 381.36it/s, batch loss=4.76e-01]\n",
      "Current loss - training: 5.73e-01 validation: 5.37e-01\n",
      "\n",
      "EPOCH   6: 100%|████████████████████████████| 175/175 [00:00<00:00, 264.39it/s, batch loss=4.14e-01]\n",
      "Current loss - training: 5.06e-01 validation: 4.72e-01\n",
      "\n",
      "EPOCH   7: 100%|████████████████████████████| 175/175 [00:00<00:00, 287.42it/s, batch loss=4.59e-01]\n",
      "Current loss - training: 4.43e-01 validation: 4.10e-01\n",
      "\n",
      "EPOCH   8: 100%|████████████████████████████| 175/175 [00:00<00:00, 293.90it/s, batch loss=3.74e-01]\n",
      "Current loss - training: 3.81e-01 validation: 3.47e-01\n",
      "\n",
      "EPOCH   9: 100%|████████████████████████████| 175/175 [00:00<00:00, 331.12it/s, batch loss=2.75e-01]\n",
      "Current loss - training: 3.17e-01 validation: 2.83e-01\n",
      "\n",
      "EPOCH  10: 100%|████████████████████████████| 175/175 [00:00<00:00, 327.19it/s, batch loss=2.57e-01]\n",
      "Current loss - training: 2.53e-01 validation: 2.20e-01\n",
      "\n",
      "EPOCH  11: 100%|████████████████████████████| 175/175 [00:00<00:00, 348.70it/s, batch loss=1.87e-01]\n",
      "Current loss - training: 1.93e-01 validation: 1.64e-01\n",
      "\n",
      "EPOCH  12: 100%|████████████████████████████| 175/175 [00:00<00:00, 312.82it/s, batch loss=1.39e-01]\n",
      "Current loss - training: 1.42e-01 validation: 1.21e-01\n",
      "\n",
      "EPOCH  13: 100%|████████████████████████████| 175/175 [00:00<00:00, 344.67it/s, batch loss=7.94e-02]\n",
      "Current loss - training: 1.06e-01 validation: 9.13e-02\n",
      "\n",
      "EPOCH  14: 100%|████████████████████████████| 175/175 [00:00<00:00, 330.52it/s, batch loss=7.54e-02]\n",
      "Current loss - training: 8.22e-02 validation: 7.23e-02\n",
      "\n",
      "EPOCH  15: 100%|████████████████████████████| 175/175 [00:00<00:00, 346.88it/s, batch loss=5.58e-02]\n",
      "Current loss - training: 6.62e-02 validation: 5.87e-02\n",
      "\n",
      "EPOCH  16: 100%|████████████████████████████| 175/175 [00:00<00:00, 354.23it/s, batch loss=5.06e-02]\n",
      "Current loss - training: 5.40e-02 validation: 4.77e-02\n",
      "\n",
      "EPOCH  17: 100%|████████████████████████████| 175/175 [00:00<00:00, 340.19it/s, batch loss=4.18e-02]\n",
      "Current loss - training: 4.35e-02 validation: 3.80e-02\n",
      "\n",
      "EPOCH  18: 100%|████████████████████████████| 175/175 [00:00<00:00, 334.51it/s, batch loss=3.08e-02]\n",
      "Current loss - training: 3.41e-02 validation: 2.94e-02\n",
      "\n",
      "EPOCH  19: 100%|████████████████████████████| 175/175 [00:00<00:00, 361.22it/s, batch loss=2.13e-02]\n",
      "Current loss - training: 2.60e-02 validation: 2.20e-02\n",
      "\n",
      "EPOCH  20: 100%|████████████████████████████| 175/175 [00:00<00:00, 361.65it/s, batch loss=1.57e-02]\n",
      "Current loss - training: 1.91e-02 validation: 1.58e-02\n",
      "\n",
      "EPOCH  21: 100%|████████████████████████████| 175/175 [00:00<00:00, 336.12it/s, batch loss=1.23e-02]\n",
      "Current loss - training: 1.36e-02 validation: 1.11e-02\n",
      "\n",
      "EPOCH  22: 100%|████████████████████████████| 175/175 [00:00<00:00, 347.91it/s, batch loss=8.14e-03]\n",
      "Current loss - training: 9.38e-03 validation: 7.53e-03\n",
      "\n",
      "EPOCH  23: 100%|████████████████████████████| 175/175 [00:00<00:00, 345.35it/s, batch loss=5.86e-03]\n",
      "Current loss - training: 6.32e-03 validation: 5.04e-03\n",
      "\n",
      "EPOCH  24: 100%|████████████████████████████| 175/175 [00:00<00:00, 354.78it/s, batch loss=3.35e-03]\n",
      "Current loss - training: 4.22e-03 validation: 3.37e-03\n",
      "\n",
      "EPOCH  25: 100%|████████████████████████████| 175/175 [00:00<00:00, 350.61it/s, batch loss=2.21e-03]\n",
      "Current loss - training: 2.84e-03 validation: 2.30e-03\n",
      "\n",
      "EPOCH  26: 100%|████████████████████████████| 175/175 [00:00<00:00, 340.07it/s, batch loss=1.75e-03]\n",
      "Current loss - training: 1.96e-03 validation: 1.62e-03\n",
      "\n",
      "EPOCH  27: 100%|████████████████████████████| 175/175 [00:00<00:00, 339.96it/s, batch loss=1.22e-03]\n",
      "Current loss - training: 1.40e-03 validation: 1.17e-03\n",
      "\n",
      "EPOCH  28: 100%|████████████████████████████| 175/175 [00:00<00:00, 350.70it/s, batch loss=8.58e-04]\n",
      "Current loss - training: 1.03e-03 validation: 8.74e-04\n",
      "\n",
      "EPOCH  29: 100%|████████████████████████████| 175/175 [00:00<00:00, 351.16it/s, batch loss=7.07e-04]\n",
      "Current loss - training: 7.66e-04 validation: 6.54e-04\n",
      "\n",
      "EPOCH  30: 100%|████████████████████████████| 175/175 [00:00<00:00, 366.53it/s, batch loss=5.18e-04]\n",
      "Current loss - training: 5.72e-04 validation: 4.87e-04\n",
      "\n",
      "EPOCH  31: 100%|████████████████████████████| 175/175 [00:00<00:00, 350.90it/s, batch loss=3.48e-04]\n",
      "Current loss - training: 4.23e-04 validation: 3.57e-04\n",
      "\n",
      "EPOCH  32: 100%|████████████████████████████| 175/175 [00:00<00:00, 352.18it/s, batch loss=2.42e-04]\n",
      "Current loss - training: 3.07e-04 validation: 2.55e-04\n",
      "\n",
      "EPOCH  33: 100%|████████████████████████████| 175/175 [00:00<00:00, 355.00it/s, batch loss=1.95e-04]\n",
      "Current loss - training: 2.17e-04 validation: 1.78e-04\n",
      "\n",
      "EPOCH  34: 100%|████████████████████████████| 175/175 [00:00<00:00, 318.06it/s, batch loss=1.14e-04]\n",
      "Current loss - training: 1.48e-04 validation: 1.19e-04\n",
      "\n",
      "EPOCH  35: 100%|████████████████████████████| 175/175 [00:00<00:00, 349.09it/s, batch loss=6.50e-05]\n",
      "Current loss - training: 9.81e-05 validation: 7.73e-05\n",
      "\n",
      "EPOCH  36: 100%|████████████████████████████| 175/175 [00:00<00:00, 346.09it/s, batch loss=4.45e-05]\n",
      "Current loss - training: 6.24e-05 validation: 4.82e-05\n",
      "\n",
      "EPOCH  37: 100%|████████████████████████████| 175/175 [00:00<00:00, 312.50it/s, batch loss=3.11e-05]\n",
      "Current loss - training: 3.81e-05 validation: 2.87e-05\n",
      "\n",
      "EPOCH  38: 100%|████████████████████████████| 175/175 [00:00<00:00, 355.52it/s, batch loss=1.77e-05]\n",
      "Current loss - training: 2.22e-05 validation: 1.63e-05\n",
      "\n",
      "EPOCH  39: 100%|████████████████████████████| 175/175 [00:00<00:00, 352.90it/s, batch loss=8.92e-06]\n",
      "Current loss - training: 1.23e-05 validation: 8.79e-06\n",
      "\n",
      "EPOCH  40: 100%|████████████████████████████| 175/175 [00:00<00:00, 342.95it/s, batch loss=4.58e-06]\n",
      "Current loss - training: 6.47e-06 validation: 4.46e-06\n",
      "\n",
      "EPOCH  41: 100%|████████████████████████████| 175/175 [00:00<00:00, 345.18it/s, batch loss=2.17e-06]\n",
      "Current loss - training: 3.20e-06 validation: 2.12e-06\n",
      "\n",
      "EPOCH  42: 100%|████████████████████████████| 175/175 [00:00<00:00, 311.72it/s, batch loss=1.03e-06]\n",
      "Current loss - training: 1.48e-06 validation: 9.46e-07\n",
      "\n",
      "EPOCH  43: 100%|████████████████████████████| 175/175 [00:00<00:00, 347.44it/s, batch loss=4.07e-07]\n",
      "Current loss - training: 6.39e-07 validation: 3.91e-07\n",
      "\n",
      "EPOCH  44: 100%|████████████████████████████| 175/175 [00:00<00:00, 340.20it/s, batch loss=1.67e-07]\n",
      "Current loss - training: 2.55e-07 validation: 1.48e-07\n",
      "\n",
      "EPOCH  45: 100%|████████████████████████████| 175/175 [00:00<00:00, 335.66it/s, batch loss=4.76e-08]\n",
      "Current loss - training: 9.32e-08 validation: 5.13e-08\n",
      "\n",
      "EPOCH  46: 100%|████████████████████████████| 175/175 [00:00<00:00, 340.57it/s, batch loss=1.57e-08]\n",
      "Current loss - training: 3.10e-08 validation: 1.62e-08\n",
      "\n",
      "EPOCH  47: 100%|████████████████████████████| 175/175 [00:00<00:00, 357.93it/s, batch loss=4.76e-09]\n",
      "Current loss - training: 9.31e-09 validation: 4.50e-09\n",
      "\n",
      "EPOCH  48: 100%|████████████████████████████| 175/175 [00:00<00:00, 364.96it/s, batch loss=1.17e-09]\n",
      "Current loss - training: 2.49e-09 validation: 1.12e-09\n",
      "\n",
      "EPOCH  49: 100%|████████████████████████████| 175/175 [00:00<00:00, 326.89it/s, batch loss=2.50e-10]\n",
      "Current loss - training: 5.89e-10 validation: 2.44e-10\n",
      "\n",
      "EPOCH  50: 100%|████████████████████████████| 175/175 [00:00<00:00, 361.33it/s, batch loss=4.85e-11]\n",
      "Current loss - training: 1.22e-10 validation: 4.60e-11\n",
      "\n",
      "EPOCH  51: 100%|████████████████████████████| 175/175 [00:00<00:00, 341.97it/s, batch loss=6.79e-12]\n",
      "Current loss - training: 2.16e-11 validation: 7.33e-12\n",
      "\n",
      "EPOCH  52: 100%|████████████████████████████| 175/175 [00:00<00:00, 343.30it/s, batch loss=9.25e-13]\n",
      "Current loss - training: 3.25e-12 validation: 9.85e-13\n",
      "\n",
      "EPOCH  53: 100%|████████████████████████████| 175/175 [00:00<00:00, 332.02it/s, batch loss=1.04e-13]\n",
      "Current loss - training: 4.10e-13 validation: 1.08e-13\n",
      "\n",
      "EPOCH  54: 100%|████████████████████████████| 175/175 [00:00<00:00, 346.22it/s, batch loss=1.08e-14]\n",
      "Current loss - training: 4.20e-14 validation: 9.62e-15\n",
      "\n",
      "EPOCH  55: 100%|████████████████████████████| 175/175 [00:00<00:00, 326.30it/s, batch loss=8.37e-16]\n",
      "Current loss - training: 3.48e-15 validation: 6.84e-16\n",
      "\n",
      "EPOCH  56: 100%|████████████████████████████| 175/175 [00:00<00:00, 332.35it/s, batch loss=3.31e-17]\n",
      "Current loss - training: 2.26e-16 validation: 3.56e-17\n",
      "\n",
      "EPOCH  57: 100%|████████████████████████████| 175/175 [00:00<00:00, 350.45it/s, batch loss=1.23e-18]\n",
      "Current loss - training: 1.11e-17 validation: 1.41e-18\n",
      "\n",
      "EPOCH  58: 100%|████████████████████████████| 175/175 [00:00<00:00, 331.67it/s, batch loss=4.18e-20]\n",
      "Current loss - training: 4.04e-19 validation: 4.05e-20\n",
      "\n",
      "EPOCH  59: 100%|████████████████████████████| 175/175 [00:00<00:00, 348.12it/s, batch loss=8.88e-22]\n",
      "Current loss - training: 1.06e-20 validation: 7.95e-22\n",
      "\n",
      "EPOCH  60: 100%|████████████████████████████| 175/175 [00:00<00:00, 304.14it/s, batch loss=1.12e-23]\n",
      "Current loss - training: 1.92e-22 validation: 1.05e-23\n",
      "\n",
      "EPOCH  61: 100%|████████████████████████████| 175/175 [00:00<00:00, 332.65it/s, batch loss=8.09e-26]\n",
      "Current loss - training: 2.28e-24 validation: 8.69e-26\n",
      "\n",
      "EPOCH  62: 100%|████████████████████████████| 175/175 [00:00<00:00, 352.92it/s, batch loss=4.79e-28]\n",
      "Current loss - training: 1.71e-26 validation: 4.11e-28\n",
      "\n",
      "EPOCH  63: 100%|████████████████████████████| 175/175 [00:00<00:00, 346.83it/s, batch loss=1.52e-30]\n",
      "Current loss - training: 7.47e-29 validation: 1.69e-30\n",
      "\n",
      "EPOCH  64: 100%|████████████████████████████| 175/175 [00:00<00:00, 352.63it/s, batch loss=2.74e-31]\n",
      "Current loss - training: 5.70e-31 validation: 2.81e-31\n",
      "\n",
      "EPOCH  65: 100%|████████████████████████████| 175/175 [00:00<00:00, 359.94it/s, batch loss=3.35e-31]\n",
      "Current loss - training: 2.86e-31 validation: 3.03e-31\n",
      "\n",
      "EPOCH  66: 100%|████████████████████████████| 175/175 [00:00<00:00, 340.61it/s, batch loss=2.72e-31]\n",
      "Current loss - training: 2.52e-31 validation: 2.46e-31\n",
      "\n",
      "EPOCH  67: 100%|████████████████████████████| 175/175 [00:00<00:00, 348.04it/s, batch loss=1.49e-31]\n",
      "Current loss - training: 2.01e-31 validation: 1.73e-31\n",
      "\n",
      "EPOCH  68: 100%|████████████████████████████| 175/175 [00:00<00:00, 364.61it/s, batch loss=1.89e-31]\n",
      "Current loss - training: 1.75e-31 validation: 1.83e-31\n",
      "\n",
      "EPOCH  69: 100%|████████████████████████████| 175/175 [00:00<00:00, 344.97it/s, batch loss=9.13e-32]\n",
      "Current loss - training: 1.10e-31 validation: 9.74e-32\n",
      "\n",
      "EPOCH  70: 100%|████████████████████████████| 175/175 [00:00<00:00, 343.07it/s, batch loss=1.06e-31]\n",
      "Current loss - training: 9.85e-32 validation: 9.89e-32\n",
      "\n",
      "EPOCH  71: 100%|████████████████████████████| 175/175 [00:00<00:00, 345.79it/s, batch loss=9.08e-32]\n",
      "Current loss - training: 9.89e-32 validation: 9.72e-32\n",
      "\n",
      "EPOCH  72: 100%|████████████████████████████| 175/175 [00:00<00:00, 338.71it/s, batch loss=5.77e-32]\n",
      "Current loss - training: 7.74e-32 validation: 6.04e-32\n",
      "\n",
      "EPOCH  73: 100%|████████████████████████████| 175/175 [00:00<00:00, 353.12it/s, batch loss=6.15e-32]\n",
      "Current loss - training: 5.63e-32 validation: 5.72e-32\n",
      "\n",
      "EPOCH  74: 100%|████████████████████████████| 175/175 [00:00<00:00, 354.48it/s, batch loss=5.29e-32]\n",
      "Current loss - training: 5.67e-32 validation: 5.58e-32\n",
      "\n",
      "EPOCH  75: 100%|████████████████████████████| 175/175 [00:00<00:00, 347.21it/s, batch loss=5.73e-32]\n",
      "Current loss - training: 5.69e-32 validation: 5.56e-32\n",
      "\n",
      "EPOCH  76: 100%|████████████████████████████| 175/175 [00:00<00:00, 354.27it/s, batch loss=1.69e-32]\n",
      "Current loss - training: 6.05e-32 validation: 1.80e-32\n",
      "\n",
      "EPOCH  77: 100%|████████████████████████████| 175/175 [00:00<00:00, 348.69it/s, batch loss=1.34e-32]\n",
      "Current loss - training: 1.31e-32 validation: 1.29e-32\n",
      "\n",
      "EPOCH  78: 100%|████████████████████████████| 175/175 [00:00<00:00, 329.62it/s, batch loss=1.06e-32]\n",
      "Current loss - training: 1.27e-32 validation: 1.28e-32\n",
      "\n",
      "EPOCH  79: 100%|████████████████████████████| 175/175 [00:00<00:00, 319.01it/s, batch loss=1.43e-32]\n",
      "Current loss - training: 1.31e-32 validation: 1.39e-32\n",
      "\n",
      "EPOCH  80: 100%|████████████████████████████| 175/175 [00:00<00:00, 321.92it/s, batch loss=1.23e-32]\n",
      "Current loss - training: 1.29e-32 validation: 1.27e-32\n",
      "\n",
      "EPOCH  81: 100%|████████████████████████████| 175/175 [00:00<00:00, 325.99it/s, batch loss=1.13e-32]\n",
      "Current loss - training: 1.33e-32 validation: 1.27e-32\n",
      "\n",
      "EPOCH  82: 100%|████████████████████████████| 175/175 [00:00<00:00, 324.23it/s, batch loss=1.05e-32]\n",
      "Current loss - training: 1.30e-32 validation: 1.34e-32\n",
      "\n",
      "EPOCH  83: 100%|████████████████████████████| 175/175 [00:00<00:00, 325.80it/s, batch loss=1.03e-32]\n",
      "Current loss - training: 1.35e-32 validation: 1.28e-32\n",
      "\n",
      "EPOCH  84: 100%|████████████████████████████| 175/175 [00:00<00:00, 336.13it/s, batch loss=1.80e-32]\n",
      "Current loss - training: 1.31e-32 validation: 1.26e-32\n",
      "\n",
      "EPOCH  85: 100%|████████████████████████████| 175/175 [00:00<00:00, 326.62it/s, batch loss=1.21e-32]\n",
      "Current loss - training: 1.40e-32 validation: 1.28e-32\n",
      "\n",
      "EPOCH  86: 100%|████████████████████████████| 175/175 [00:00<00:00, 327.93it/s, batch loss=1.59e-32]\n",
      "Current loss - training: 1.45e-32 validation: 1.32e-32\n",
      "\n",
      "EPOCH  87: 100%|████████████████████████████| 175/175 [00:00<00:00, 333.49it/s, batch loss=3.49e-30]\n",
      "Current loss - training: 2.05e-31 validation: 8.00e-31\n",
      "\n",
      "EPOCH  88: 100%|████████████████████████████| 175/175 [00:00<00:00, 317.81it/s, batch loss=3.53e-31]\n",
      "Current loss - training: 1.49e-31 validation: 6.52e-32\n",
      "\n",
      "EPOCH  89: 100%|████████████████████████████| 175/175 [00:00<00:00, 322.73it/s, batch loss=5.50e-27]\n",
      "Current loss - training: 1.09e-28 validation: 9.33e-27\n",
      "\n"
     ]
    }
   ],
   "source": [
    "model.train(1000, patience=5)"
   ]
  },
  {
   "cell_type": "markdown",
   "metadata": {
    "pycharm": {
     "name": "#%% md\n"
    }
   },
   "source": [
    "Now, we plot the training and validation losses"
   ]
  },
  {
   "cell_type": "code",
   "execution_count": 10,
   "metadata": {
    "collapsed": false,
    "jupyter": {
     "outputs_hidden": false
    },
    "pycharm": {
     "name": "#%%\n"
    }
   },
   "outputs": [
    {
     "data": {
      "text/plain": "<Figure size 960x480 with 1 Axes>",
      "image/png": "[encoded data removed]"
     },
     "metadata": {},
     "output_type": "display_data"
    }
   ],
   "source": [
    "model.plot_training()"
   ]
  },
  {
   "cell_type": "markdown",
   "metadata": {
    "pycharm": {
     "name": "#%% md\n"
    }
   },
   "source": [
    "## Test on testing set"
   ]
  },
  {
   "cell_type": "markdown",
   "metadata": {
    "pycharm": {
     "name": "#%% md\n"
    }
   },
   "source": [
    "Now, we test our model on the training set, computing for each graph the relative errors."
   ]
  },
  {
   "cell_type": "code",
   "execution_count": 11,
   "metadata": {
    "collapsed": false,
    "jupyter": {
     "outputs_hidden": false
    },
    "pycharm": {
     "name": "#%%\n"
    }
   },
   "outputs": [
    {
     "name": "stdout",
     "output_type": "stream",
     "text": [
      "\n",
      "Testing graph neural network:\n",
      "Graph   1 with 124 nodes, test loss is 1.15e-32, relative error is 4.55e-16\n",
      "Graph   2 with 149 nodes, test loss is 1.19e-32, relative error is 2.62e-16\n",
      "Graph   3 with 112 nodes, test loss is 1.79e-32, relative error is 3.63e-16\n",
      "Graph   4 with 136 nodes, test loss is 1.26e-32, relative error is 8.94e-16\n",
      "Graph   5 with 143 nodes, test loss is 7.99e-33, relative error is 2.91e-16\n",
      "Graph   6 with 171 nodes, test loss is 8.17e-33, relative error is 1.01e-15\n",
      "Graph   7 with 180 nodes, test loss is 1.24e-32, relative error is 3.42e-16\n",
      "Graph   8 with 112 nodes, test loss is 9.84e-33, relative error is 2.11e-16\n",
      "Graph   9 with 169 nodes, test loss is 1.47e-32, relative error is 3.57e-16\n",
      "Graph  10 with 161 nodes, test loss is 1.38e-32, relative error is 5.60e-16\n",
      "Graph  11 with 113 nodes, test loss is 1.00e-32, relative error is 4.80e-16\n",
      "Graph  12 with 150 nodes, test loss is 1.34e-32, relative error is 3.83e-16\n",
      "Graph  13 with 101 nodes, test loss is 4.86e-33, relative error is 7.45e-16\n",
      "Graph  14 with 178 nodes, test loss is 1.74e-32, relative error is 2.21e-16\n",
      "Graph  15 with 170 nodes, test loss is 2.01e-32, relative error is 2.64e-16\n",
      "Graph  16 with 150 nodes, test loss is 8.38e-33, relative error is 3.22e-16\n",
      "Graph  17 with 190 nodes, test loss is 1.20e-32, relative error is 4.13e-16\n",
      "Graph  18 with 147 nodes, test loss is 8.74e-33, relative error is 5.32e-16\n",
      "Graph  19 with 108 nodes, test loss is 9.45e-33, relative error is 1.80e-15\n",
      "Graph  20 with 186 nodes, test loss is 1.05e-32, relative error is 2.90e-15\n",
      "Graph  21 with 167 nodes, test loss is 2.43e-32, relative error is 3.50e-16\n",
      "Graph  22 with 178 nodes, test loss is 5.99e-33, relative error is 2.49e-15\n",
      "Graph  23 with 170 nodes, test loss is 1.54e-32, relative error is 2.48e-16\n",
      "Graph  24 with 168 nodes, test loss is 1.09e-32, relative error is 2.58e-16\n",
      "Graph  25 with 173 nodes, test loss is 1.59e-32, relative error is 2.90e-16\n",
      "Graph  26 with 182 nodes, test loss is 1.55e-32, relative error is 4.39e-16\n",
      "Graph  27 with 109 nodes, test loss is 1.41e-32, relative error is 3.15e-16\n",
      "Graph  28 with 105 nodes, test loss is 9.02e-33, relative error is 4.10e-16\n",
      "Graph  29 with 176 nodes, test loss is 8.59e-33, relative error is 4.01e-16\n",
      "Graph  30 with 168 nodes, test loss is 1.57e-32, relative error is 2.50e-16\n",
      "Graph  31 with 191 nodes, test loss is 1.36e-32, relative error is 1.23e-15\n",
      "Graph  32 with 163 nodes, test loss is 1.89e-32, relative error is 4.01e-16\n",
      "Graph  33 with 145 nodes, test loss is 1.34e-32, relative error is 2.29e-15\n",
      "Graph  34 with 193 nodes, test loss is 1.37e-32, relative error is 4.13e-16\n",
      "Graph  35 with 162 nodes, test loss is 1.11e-32, relative error is 3.61e-16\n",
      "Graph  36 with 192 nodes, test loss is 9.71e-33, relative error is 2.49e-16\n",
      "Graph  37 with 127 nodes, test loss is 9.03e-33, relative error is 5.60e-16\n",
      "Graph  38 with 138 nodes, test loss is 1.02e-32, relative error is 2.87e-16\n",
      "Graph  39 with 190 nodes, test loss is 9.83e-33, relative error is 1.84e-16\n",
      "Graph  40 with 117 nodes, test loss is 7.78e-33, relative error is 4.99e-16\n",
      "Graph  41 with 118 nodes, test loss is 1.35e-32, relative error is 1.73e-16\n",
      "Graph  42 with 154 nodes, test loss is 1.26e-32, relative error is 3.48e-16\n",
      "Graph  43 with 185 nodes, test loss is 1.11e-32, relative error is 1.91e-16\n",
      "Graph  44 with 113 nodes, test loss is 1.28e-32, relative error is 2.91e-16\n",
      "Graph  45 with 183 nodes, test loss is 1.38e-32, relative error is 2.64e-16\n",
      "Graph  46 with 182 nodes, test loss is 1.64e-32, relative error is 6.80e-16\n",
      "Graph  47 with 187 nodes, test loss is 9.89e-33, relative error is 3.62e-16\n",
      "Graph  48 with 140 nodes, test loss is 5.62e-33, relative error is 3.72e-16\n",
      "Graph  49 with 147 nodes, test loss is 8.50e-33, relative error is 3.79e-16\n",
      "Graph  50 with 108 nodes, test loss is 1.13e-32, relative error is 2.31e-16\n",
      "Graph  51 with 110 nodes, test loss is 1.24e-32, relative error is 4.97e-16\n",
      "Graph  52 with 160 nodes, test loss is 1.38e-32, relative error is 3.11e-16\n",
      "Graph  53 with 188 nodes, test loss is 1.12e-32, relative error is 2.84e-16\n",
      "Graph  54 with 139 nodes, test loss is 1.36e-32, relative error is 5.55e-16\n",
      "Graph  55 with 156 nodes, test loss is 8.89e-33, relative error is 2.82e-16\n",
      "Graph  56 with 112 nodes, test loss is 8.32e-33, relative error is 2.45e-16\n",
      "Graph  57 with 153 nodes, test loss is 1.14e-32, relative error is 2.15e-16\n",
      "Graph  58 with 110 nodes, test loss is 6.58e-33, relative error is 3.54e-16\n",
      "Graph  59 with 172 nodes, test loss is 1.59e-32, relative error is 1.01e-15\n",
      "Graph  60 with 180 nodes, test loss is 8.58e-33, relative error is 4.06e-16\n",
      "Graph  61 with 165 nodes, test loss is 1.05e-32, relative error is 3.66e-16\n",
      "Graph  62 with 156 nodes, test loss is 1.09e-32, relative error is 4.23e-16\n",
      "Graph  63 with 148 nodes, test loss is 1.41e-32, relative error is 3.80e-16\n",
      "Graph  64 with 121 nodes, test loss is 9.61e-33, relative error is 3.17e-16\n",
      "Graph  65 with 151 nodes, test loss is 1.20e-32, relative error is 2.43e-16\n",
      "Graph  66 with 191 nodes, test loss is 1.52e-32, relative error is 2.43e-16\n",
      "Graph  67 with 119 nodes, test loss is 1.14e-32, relative error is 2.50e-16\n",
      "Graph  68 with 104 nodes, test loss is 1.25e-32, relative error is 2.37e-16\n",
      "Graph  69 with 198 nodes, test loss is 1.36e-32, relative error is 2.62e-16\n",
      "Graph  70 with 193 nodes, test loss is 9.29e-33, relative error is 3.49e-16\n",
      "Graph  71 with 172 nodes, test loss is 1.13e-32, relative error is 2.79e-16\n",
      "Graph  72 with 186 nodes, test loss is 7.95e-33, relative error is 5.11e-16\n",
      "Graph  73 with 166 nodes, test loss is 8.49e-33, relative error is 2.02e-16\n",
      "Graph  74 with 167 nodes, test loss is 1.50e-32, relative error is 9.18e-16\n",
      "Graph  75 with 130 nodes, test loss is 2.13e-32, relative error is 3.45e-16\n",
      "Graph  76 with 190 nodes, test loss is 1.63e-32, relative error is 4.00e-16\n",
      "Graph  77 with 186 nodes, test loss is 8.85e-33, relative error is 3.07e-16\n",
      "Graph  78 with 174 nodes, test loss is 2.09e-32, relative error is 2.87e-16\n",
      "Graph  79 with 103 nodes, test loss is 8.66e-33, relative error is 1.06e-15\n",
      "Graph  80 with 145 nodes, test loss is 1.37e-32, relative error is 4.58e-16\n",
      "Graph  81 with 164 nodes, test loss is 8.52e-33, relative error is 2.21e-16\n",
      "Graph  82 with 103 nodes, test loss is 1.42e-32, relative error is 3.48e-16\n",
      "Graph  83 with 138 nodes, test loss is 1.32e-32, relative error is 5.86e-16\n",
      "Graph  84 with 123 nodes, test loss is 1.67e-32, relative error is 6.30e-16\n",
      "Graph  85 with 130 nodes, test loss is 1.20e-32, relative error is 1.20e-15\n",
      "Graph  86 with 127 nodes, test loss is 1.47e-32, relative error is 3.28e-16\n",
      "Graph  87 with 121 nodes, test loss is 9.79e-33, relative error is 2.68e-16\n",
      "Graph  88 with 147 nodes, test loss is 1.15e-32, relative error is 5.43e-16\n",
      "Graph  89 with 163 nodes, test loss is 9.89e-33, relative error is 5.93e-16\n",
      "Graph  90 with 102 nodes, test loss is 8.79e-33, relative error is 2.14e-16\n",
      "Graph  91 with 174 nodes, test loss is 1.84e-32, relative error is 1.68e-15\n",
      "Graph  92 with 128 nodes, test loss is 1.49e-32, relative error is 2.33e-16\n",
      "Graph  93 with 138 nodes, test loss is 1.58e-32, relative error is 4.73e-16\n",
      "Graph  94 with 192 nodes, test loss is 1.09e-32, relative error is 4.12e-16\n",
      "Graph  95 with 168 nodes, test loss is 2.49e-32, relative error is 1.54e-14\n",
      "Graph  96 with 133 nodes, test loss is 1.03e-32, relative error is 3.39e-16\n",
      "Graph  97 with 137 nodes, test loss is 1.54e-32, relative error is 3.18e-16\n",
      "Graph  98 with 150 nodes, test loss is 1.25e-32, relative error is 2.88e-16\n",
      "Graph  99 with 183 nodes, test loss is 1.24e-32, relative error is 3.16e-16\n",
      "Graph 100 with 124 nodes, test loss is 1.51e-32, relative error is 3.91e-16\n"
     ]
    }
   ],
   "source": [
    "model.test(test)"
   ]
  },
  {
   "cell_type": "markdown",
   "metadata": {
    "pycharm": {
     "name": "#%% md\n"
    }
   },
   "source": [
    "## More testing"
   ]
  },
  {
   "cell_type": "markdown",
   "metadata": {
    "pycharm": {
     "name": "#%% md\n"
    }
   },
   "source": [
    "We try increasing the graph size to stress our network and see the behaviour. Moreover, we compare the time needed using the definition and the time needed by our network.\n",
    "We recall that the discrete laplacian can be computed avoiding the matrix multiplication $Lx$ (which can be very expansive) using the following definition:\n",
    "$$\n",
    "    (Lx)(v) = \\sum_{w \\in A_v}{x(v) - x(w)} \\qquad \\forall v \\in V\n",
    "$$\n",
    "Where $A_v$ denotes the set of vertices adjacent to $v$ (i.e. directly connected to $v$ through an edge).\n"
   ]
  },
  {
   "cell_type": "code",
   "execution_count": 12,
   "outputs": [
    {
     "name": "stdout",
     "output_type": "stream",
     "text": [
      "\n",
      "Graph with 10 nodes\n",
      "Graph built in 3.85e-04 seconds\n",
      "Matrix multiplication, time elapsed is 2.00e-05 seconds\n",
      "Using definition, time elapsed is 6.41e-05 seconds\n",
      "Using the gnn, time elapsed is 1.27e-03 seconds\n",
      "Definition vs GNN relative error is 2.04e-15\n",
      "Definition vs multiplication relative error is 2.04e-17\n",
      "\n",
      "Graph with 50 nodes\n",
      "Graph built in 5.49e-04 seconds\n",
      "Matrix multiplication, time elapsed is 2.22e-05 seconds\n",
      "Using definition, time elapsed is 4.78e-04 seconds\n",
      "Using the gnn, time elapsed is 4.67e-04 seconds\n",
      "Definition vs GNN relative error is 1.98e-15\n",
      "Definition vs multiplication relative error is 5.08e-17\n",
      "\n",
      "Graph with 100 nodes\n",
      "Graph built in 5.36e-04 seconds\n",
      "Matrix multiplication, time elapsed is 8.54e-05 seconds\n",
      "Using definition, time elapsed is 1.59e-03 seconds\n",
      "Using the gnn, time elapsed is 5.69e-04 seconds\n",
      "Definition vs GNN relative error is 2.84e-16\n",
      "Definition vs multiplication relative error is 8.79e-17\n",
      "\n",
      "Graph with 500 nodes\n",
      "Graph built in 6.39e-03 seconds\n",
      "Matrix multiplication, time elapsed is 3.44e-03 seconds\n",
      "Using definition, time elapsed is 7.98e-03 seconds\n",
      "Using the gnn, time elapsed is 7.66e-04 seconds\n",
      "Definition vs GNN relative error is 2.25e-16\n",
      "Definition vs multiplication relative error is 6.31e-17\n",
      "\n",
      "Graph with 1000 nodes\n",
      "Graph built in 1.28e-02 seconds\n",
      "Matrix multiplication, time elapsed is 7.39e-03 seconds\n",
      "Using definition, time elapsed is 1.73e-02 seconds\n",
      "Using the gnn, time elapsed is 9.96e-04 seconds\n",
      "Definition vs GNN relative error is 1.19e-15\n",
      "Definition vs multiplication relative error is 8.13e-17\n",
      "\n",
      "Graph with 5000 nodes\n",
      "Graph built in 7.18e-02 seconds\n",
      "Matrix multiplication, time elapsed is 1.04e-01 seconds\n",
      "Using definition, time elapsed is 9.93e-02 seconds\n",
      "Using the gnn, time elapsed is 1.92e-03 seconds\n",
      "Definition vs GNN relative error is 3.84e-16\n",
      "Definition vs multiplication relative error is 1.43e-16\n",
      "\n",
      "Graph with 10000 nodes\n",
      "Graph built in 7.67e-02 seconds\n",
      "Matrix multiplication, time elapsed is 5.89e-01 seconds\n",
      "Using definition, time elapsed is 2.08e-01 seconds\n",
      "Using the gnn, time elapsed is 1.76e-03 seconds\n",
      "Definition vs GNN relative error is 4.36e-16\n",
      "Definition vs multiplication relative error is 9.76e-17\n",
      "\n",
      "Graph with 20000 nodes\n",
      "Graph built in 1.65e-01 seconds\n",
      "Matrix multiplication, time elapsed is 4.87e+00 seconds\n",
      "Using definition, time elapsed is 1.55e-01 seconds\n",
      "Using the gnn, time elapsed is 2.87e-03 seconds\n",
      "Definition vs GNN relative error is 5.29e-16\n",
      "Definition vs multiplication relative error is 1.06e-16\n",
      "\n",
      "Graph with 50000 nodes\n",
      "Graph built in 3.69e-01 seconds\n",
      "Using definition, time elapsed is 5.94e-01 seconds\n",
      "Using the gnn, time elapsed is 6.37e-03 seconds\n",
      "Definition vs GNN relative error is 5.83e-16\n",
      "\n",
      "Graph with 100000 nodes\n",
      "Graph built in 8.43e-01 seconds\n",
      "Using definition, time elapsed is 7.68e-01 seconds\n",
      "Using the gnn, time elapsed is 1.57e-02 seconds\n",
      "Definition vs GNN relative error is 2.68e-15\n",
      "\n",
      "Graph with 200000 nodes\n",
      "Graph built in 3.71e+00 seconds\n",
      "Using definition, time elapsed is 1.71e+00 seconds\n",
      "Using the gnn, time elapsed is 3.05e-02 seconds\n",
      "Definition vs GNN relative error is 8.75e-16\n",
      "\n",
      "Graph with 500000 nodes\n",
      "Graph built in 2.03e+01 seconds\n",
      "Using definition, time elapsed is 3.24e+00 seconds\n",
      "Using the gnn, time elapsed is 5.65e-02 seconds\n",
      "Definition vs GNN relative error is 6.39e-16\n",
      "\n",
      "Graph with 1000000 nodes\n",
      "Graph built in 8.79e+01 seconds\n",
      "Using definition, time elapsed is 7.78e+00 seconds\n",
      "Using the gnn, time elapsed is 2.27e-01 seconds\n",
      "Definition vs GNN relative error is 6.70e-16\n"
     ]
    }
   ],
   "source": [
    "nodes = [10, 50, 100, 500, 1000, 5000, 10000, 20000, 50000, 100000, 200000, 500000, 1000000]\n",
    "mul_times = []\n",
    "std_times = []\n",
    "gnn_times = []\n",
    "mul_errs = []\n",
    "gnn_errs = []\n",
    "for n_vertexes in nodes:\n",
    "    print(f\"\\nGraph with {n_vertexes} nodes\")\n",
    "    # Generate graph and signal\n",
    "    init_time = time.time()\n",
    "    g = Graph2D.get_default_graph(n_vertexes)\n",
    "    inp = np.random.uniform(0, 1, size=(n_vertexes, 1))\n",
    "    data = get_torch_graph(g.vertexes, g.get_edges(), inp)\n",
    "    print(f\"Graph built in {(time.time() - init_time):.2e} seconds\")\n",
    "    if n_vertexes <= 20000:\n",
    "        # Discrete laplacian multiplying Lx\n",
    "        L = g.get_graph_laplacian()\n",
    "        init_time = time.time()\n",
    "        mul_out = L @ inp\n",
    "        mul_times.append(time.time() - init_time)\n",
    "        print(f\"Matrix multiplication, time elapsed is {mul_times[-1]:.2e} seconds\")\n",
    "    else:\n",
    "        # Not enough RAM to allocate L matrix :(\n",
    "        mul_times.append(np.inf)\n",
    "        mul_out=0\n",
    "    # Discrete laplacian using the definition\n",
    "    init_time = time.time()\n",
    "    standard_out = g.get_discrete_laplacian(inp)\n",
    "    std_times.append(time.time() - init_time)\n",
    "    print(f\"Using definition, time elapsed is {std_times[-1]:.2e} seconds\")\n",
    "    # Discrete laplacian using gnn\n",
    "    init_time = time.time()\n",
    "    gnn_out = model(data.x, data.edge_index, data.edge_attr)\n",
    "    gnn_times.append(time.time() - init_time)\n",
    "    print(f\"Using the gnn, time elapsed is {gnn_times[-1]:.2e} seconds\")\n",
    "\n",
    "    # Computing errors\n",
    "    gnn_out = gnn_out.detach().numpy()\n",
    "    rel_errs = abs(standard_out - gnn_out)/abs(standard_out)\n",
    "    gnn_errs.append(np.mean(rel_errs))\n",
    "    print(f\"Definition vs GNN relative error is {gnn_errs[-1]:.2e}\")\n",
    "    rel_errs = abs(standard_out - mul_out)/abs(standard_out)\n",
    "    if n_vertexes <= 20000:\n",
    "        mul_errs.append(np.mean(rel_errs))\n",
    "        print(f\"Definition vs multiplication relative error is {mul_errs[-1]:.2e}\")\n",
    "    else:\n",
    "        mul_errs.append(np.inf)\n"
   ],
   "metadata": {
    "collapsed": false,
    "pycharm": {
     "name": "#%%\n"
    }
   }
  },
  {
   "cell_type": "markdown",
   "source": [
    "### Computation time comparison"
   ],
   "metadata": {
    "collapsed": false,
    "pycharm": {
     "name": "#%% md\n"
    }
   }
  },
  {
   "cell_type": "code",
   "execution_count": 13,
   "outputs": [
    {
     "data": {
      "text/plain": "<Figure size 960x480 with 1 Axes>",
      "image/png": "[encoded data removed]"
     },
     "metadata": {},
     "output_type": "display_data"
    }
   ],
   "source": [
    "plot_testing(nodes, [mul_times, std_times, gnn_times],\n",
    "             colors=[\"blue\", \"red\", \"green\"],\n",
    "             labels=[\"Multiplication time\", \"Definition time\", \"GNN time\"],\n",
    "             y_label=\"Seconds\")"
   ],
   "metadata": {
    "collapsed": false,
    "pycharm": {
     "name": "#%%\n"
    }
   }
  },
  {
   "cell_type": "markdown",
   "source": [],
   "metadata": {
    "collapsed": false,
    "pycharm": {
     "name": "#%% md\n"
    }
   }
  },
  {
   "cell_type": "markdown",
   "source": [
    "### Errors comparison"
   ],
   "metadata": {
    "collapsed": false,
    "pycharm": {
     "name": "#%% md\n"
    }
   }
  },
  {
   "cell_type": "code",
   "execution_count": 14,
   "outputs": [
    {
     "data": {
      "text/plain": "<Figure size 960x480 with 1 Axes>",
      "image/png": "[encoded data removed]"
     },
     "metadata": {},
     "output_type": "display_data"
    }
   ],
   "source": [
    "plot_testing(nodes, [gnn_errs, mul_errs],\n",
    "             colors=[\"blue\", \"red\"],\n",
    "             labels=[\"Gnn vs definition\", \"Multiplication vs definition\"],\n",
    "             y_label=\"Relative errors\")"
   ],
   "metadata": {
    "collapsed": false,
    "pycharm": {
     "name": "#%%\n"
    }
   }
  }
 ],
 "metadata": {
  "kernelspec": {
   "display_name": "Python 3 (ipykernel)",
   "language": "python",
   "name": "python3"
  },
  "language_info": {
   "codemirror_mode": {
    "name": "ipython",
    "version": 2
   },
   "file_extension": ".py",
   "mimetype": "text/x-python",
   "name": "python",
   "nbconvert_exporter": "python",
   "pygments_lexer": "ipython2",
   "version": "2.7.6"
  }
 },
 "nbformat": 4,
 "nbformat_minor": 4
}